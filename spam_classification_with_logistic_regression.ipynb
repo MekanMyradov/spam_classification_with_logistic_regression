{
 "cells": [
  {
   "cell_type": "code",
   "execution_count": 21,
   "metadata": {},
   "outputs": [],
   "source": [
    "%reset -f"
   ]
  },
  {
   "cell_type": "code",
   "execution_count": 22,
   "metadata": {},
   "outputs": [],
   "source": [
    "import pandas as pd\n",
    "import re\n",
    "import string"
   ]
  },
  {
   "cell_type": "markdown",
   "metadata": {},
   "source": [
    "# Step 1: Prepare the data"
   ]
  },
  {
   "cell_type": "code",
   "execution_count": 23,
   "metadata": {},
   "outputs": [
    {
     "name": "stdout",
     "output_type": "stream",
     "text": [
      "  label                                               text\n",
      "0   ham  Go until jurong point, crazy.. Available only ...\n",
      "1   ham                      Ok lar... Joking wif u oni...\n",
      "2  spam  Free entry in 2 a wkly comp to win FA Cup fina...\n",
      "3   ham  U dun say so early hor... U c already then say...\n",
      "4   ham  Nah I don't think he goes to usf, he lives aro...\n"
     ]
    }
   ],
   "source": [
    "data = pd.read_table('SMSSpamCollection', header=None)\n",
    "data.columns = ['label', 'text']\n",
    "print(data.head())"
   ]
  },
  {
   "cell_type": "code",
   "execution_count": 24,
   "metadata": {},
   "outputs": [
    {
     "name": "stdout",
     "output_type": "stream",
     "text": [
      "  label                                               text\n",
      "0   ham  go until jurong point crazy available only in ...\n",
      "1   ham                            ok lar joking wif u oni\n",
      "2  spam  free entry in  a wkly comp to win fa cup final...\n",
      "3   ham        u dun say so early hor u c already then say\n",
      "4   ham  nah i dont think he goes to usf he lives aroun...\n"
     ]
    }
   ],
   "source": [
    "# remove words with numbers, punctuation and capital letters\n",
    "alphanumeric = lambda x: re.sub(r\"\\w*\\d\\w*\", '', x)\n",
    "punc_lower = lambda x: re.sub('[%s]' % re.escape(string.punctuation), '', x.lower())\n",
    "\n",
    "data['text'] = data.text.map(alphanumeric).map(punc_lower)\n",
    "print(data.head())"
   ]
  },
  {
   "cell_type": "markdown",
   "metadata": {},
   "source": [
    "# Step 2 :Split the data"
   ]
  },
  {
   "cell_type": "code",
   "execution_count": 25,
   "metadata": {},
   "outputs": [],
   "source": [
    "X = data.text\n",
    "Y = data.label"
   ]
  },
  {
   "cell_type": "code",
   "execution_count": 26,
   "metadata": {},
   "outputs": [
    {
     "data": {
      "text/plain": [
       "0    go until jurong point crazy available only in ...\n",
       "1                              ok lar joking wif u oni\n",
       "2    free entry in  a wkly comp to win fa cup final...\n",
       "3          u dun say so early hor u c already then say\n",
       "4    nah i dont think he goes to usf he lives aroun...\n",
       "Name: text, dtype: object"
      ]
     },
     "execution_count": 26,
     "metadata": {},
     "output_type": "execute_result"
    }
   ],
   "source": [
    "X.head()"
   ]
  },
  {
   "cell_type": "code",
   "execution_count": 27,
   "metadata": {},
   "outputs": [
    {
     "data": {
      "text/plain": [
       "0     ham\n",
       "1     ham\n",
       "2    spam\n",
       "3     ham\n",
       "4     ham\n",
       "Name: label, dtype: object"
      ]
     },
     "execution_count": 27,
     "metadata": {},
     "output_type": "execute_result"
    }
   ],
   "source": [
    "Y.head()"
   ]
  },
  {
   "cell_type": "code",
   "execution_count": 28,
   "metadata": {},
   "outputs": [],
   "source": [
    "# Split the data into training and test set\n",
    "from sklearn.model_selection import train_test_split\n",
    "\n",
    "X_train, X_test, Y_train, Y_test = train_test_split(X, Y, test_size=0.30, random_state=42)"
   ]
  },
  {
   "cell_type": "code",
   "execution_count": 29,
   "metadata": {},
   "outputs": [
    {
     "name": "stdout",
     "output_type": "stream",
     "text": [
      "(3900,)\n",
      "708             quite late lar ard  anyway i wun b drivin\n",
      "4338                         on a tuesday night r u  real\n",
      "5029    go chase after her and run her over while shes...\n",
      "4921       g says you never answer your texts confirmdeny\n",
      "2592            still work going onit is very small house\n",
      "Name: text, dtype: object\n",
      "\n",
      "\n",
      "(1672,)\n",
      "3245    squeeeeeze this is christmas hug if u lik my f...\n",
      "944     and also ive sorta blown him off a couple time...\n",
      "1044    mmm thats better now i got a roast down me id...\n",
      "2484        mm have some kanji dont eat anything heavy ok\n",
      "812     so theres a ring that comes with the guys cost...\n",
      "Name: text, dtype: object\n"
     ]
    }
   ],
   "source": [
    "print(X_train.shape)\n",
    "print(X_train.head())\n",
    "print(\"\\n\")\n",
    "print(X_test.shape)\n",
    "print(X_test.head())"
   ]
  },
  {
   "cell_type": "code",
   "execution_count": 30,
   "metadata": {},
   "outputs": [
    {
     "name": "stdout",
     "output_type": "stream",
     "text": [
      "(3900,)\n",
      "708     ham\n",
      "4338    ham\n",
      "5029    ham\n",
      "4921    ham\n",
      "2592    ham\n",
      "Name: label, dtype: object\n",
      "\n",
      "\n",
      "(1672,)\n",
      "3245    ham\n",
      "944     ham\n",
      "1044    ham\n",
      "2484    ham\n",
      "812     ham\n",
      "Name: label, dtype: object\n"
     ]
    }
   ],
   "source": [
    "print(Y_train.shape)\n",
    "print(Y_train.head())\n",
    "print(\"\\n\")\n",
    "print(Y_test.shape)\n",
    "print(Y_test.head())"
   ]
  },
  {
   "cell_type": "markdown",
   "metadata": {},
   "source": [
    "# Step 3: Numerically encode the input data"
   ]
  },
  {
   "cell_type": "code",
   "execution_count": 31,
   "metadata": {},
   "outputs": [
    {
     "name": "stdout",
     "output_type": "stream",
     "text": [
      "(3900, 6645)\n"
     ]
    }
   ],
   "source": [
    "from sklearn.feature_extraction.text import CountVectorizer\n",
    "\n",
    "cv = CountVectorizer(stop_words='english')\n",
    "\n",
    "X_train_cv = cv.fit_transform(X_train)    # remember mean and standard deviation while fitting\n",
    "X_test_cv = cv.transform(X_test)    # apply mean and standard deviation while transforming\n",
    "\n",
    "print(X_train_cv.toarray().shape)"
   ]
  },
  {
   "cell_type": "markdown",
   "metadata": {},
   "source": [
    "# Step 4: Fit model and predict outcomes"
   ]
  },
  {
   "cell_type": "code",
   "execution_count": 32,
   "metadata": {},
   "outputs": [
    {
     "data": {
      "text/plain": [
       "array(['ham', 'ham', 'ham', ..., 'ham', 'spam', 'ham'], dtype=object)"
      ]
     },
     "execution_count": 32,
     "metadata": {},
     "output_type": "execute_result"
    }
   ],
   "source": [
    "from sklearn.linear_model import LogisticRegression\n",
    "\n",
    "lr = LogisticRegression()\n",
    "\n",
    "# train the model\n",
    "lr.fit(X_train_cv, Y_train)\n",
    "\n",
    "# take the trained model and apply it to the X_test_cv\n",
    "Y_pred_cv = lr.predict(X_test_cv)\n",
    "Y_pred_cv"
   ]
  },
  {
   "cell_type": "markdown",
   "metadata": {},
   "source": [
    "# Step 5: Evaluate the model"
   ]
  },
  {
   "cell_type": "code",
   "execution_count": 33,
   "metadata": {},
   "outputs": [
    {
     "name": "stdout",
     "output_type": "stream",
     "text": [
      "Accuracy: 0.983\n",
      "Precisision: 1.0\n",
      "Recall: 0.875\n",
      "F1 Score: 0.933\n"
     ]
    },
    {
     "data": {
      "image/png": "[encoded data removed]",
      "text/plain": [
       "<Figure size 432x288 with 2 Axes>"
      ]
     },
     "metadata": {
      "needs_background": "light"
     },
     "output_type": "display_data"
    }
   ],
   "source": [
    "from sklearn.metrics import confusion_matrix\n",
    "import matplotlib.pyplot as plt\n",
    "import seaborn as sns\n",
    "%matplotlib inline\n",
    "\n",
    "cm = confusion_matrix(Y_test, Y_pred_cv)\n",
    "sns.heatmap(cm, xticklabels=['actual_ham', 'actual_spam'], yticklabels=['predicted_ham', 'predicted_spam'], annot=True, fmt='d', annot_kws={'fontsize':20}, cmap=\"YlGnBu\")\n",
    "\n",
    "tn, fp = cm[0]\n",
    "fn, tp = cm[1]\n",
    "\n",
    "accuracy = round((tp+tn)/(tp+tn+fp+fn), 3)\n",
    "precision = round((tp)/(tp+fp), 3)\n",
    "recall = round((tp)/(tp+fn), 3)\n",
    "f1 = round((2*precision*recall)/(precision+recall), 3)\n",
    "\n",
    "print('Accuracy: {}'.format(accuracy))\n",
    "print('Precisision: {}'.format(precision))\n",
    "print('Recall: {}'.format(recall))\n",
    "print(\"F1 Score: {}\".format(f1))"
   ]
  },
  {
   "cell_type": "code",
   "execution_count": null,
   "metadata": {},
   "outputs": [],
   "source": []
  }
 ],
 "metadata": {
  "kernelspec": {
   "display_name": "Python 3",
   "language": "python",
   "name": "python3"
  },
  "language_info": {
   "codemirror_mode": {
    "name": "ipython",
    "version": 3
   },
   "file_extension": ".py",
   "mimetype": "text/x-python",
   "name": "python",
   "nbconvert_exporter": "python",
   "pygments_lexer": "ipython3",
   "version": "3.8.5"
  }
 },
 "nbformat": 4,
 "nbformat_minor": 4
}
